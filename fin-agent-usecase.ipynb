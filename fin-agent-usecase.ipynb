{
 "cells": [
  {
   "cell_type": "code",
   "execution_count": 20,
   "metadata": {},
   "outputs": [],
   "source": [
    "from utils.llms.gemini import GeminiJsonEngine, GeminiSimpleChatEngine\n",
    "\n",
    "from pydantic import BaseModel, Field\n",
    "from typing import List, Dict, Any, Optional\n",
    "import os"
   ]
  },
  {
   "cell_type": "code",
   "execution_count": 22,
   "metadata": {},
   "outputs": [],
   "source": [
    "# For Gemini\n",
    "os.environ[\"GOOGLE_APPLICATION_CREDENTIALS\"] = \"/Users/debasmitroy/Desktop/programming/temp_deployment/key.json\"\n",
    "os.environ[\"GOOGLE_CLOUD_PROJECT\"] = \"openserve-0\"\n",
    "os.environ[\"GOOGLE_CLOUD_LOCATION\"] = \"us-central1\" "
   ]
  },
  {
   "cell_type": "code",
   "execution_count": null,
   "metadata": {},
   "outputs": [],
   "source": [
    "class TenorWiseFinSummary(BaseModel):\n",
    "    \"\"\"\n",
    "    This tool is designed to provide tenor wise summary of the financial profit and loss movements\n",
    "    \"\"\"\n",
    "    shortterm_summary: str = Field(\"No shortterm entries found\", title=\"Summary of p&l and risk movements in the short term\")\n",
    "    midterm_summary: str = Field(\"No midterm entries found\", title=\"Summary of p&l and risk movements in the mid term\")\n",
    "    longterm_summary: str = Field(\"No longterm entries found\", title=\"Summary of p&l and risk movements in the long term\")"
   ]
  },
  {
   "cell_type": "code",
   "execution_count": 54,
   "metadata": {},
   "outputs": [
    {
     "name": "stderr",
     "output_type": "stream",
     "text": [
      "\u001b[1;36m2025-03-20 21:38:36,329 - DEBUG ==> Initialized GeminiModel with model gemini-2.0-flash-001 , project openserve-0, location us-central1\u001b[0m\n",
      "\u001b[1;36m2025-03-20 21:38:36,554 - DEBUG ==> Initialized GeminiModel with model gemini-2.0-flash-001 , project openserve-0, location us-central1\u001b[0m\n"
     ]
    }
   ],
   "source": [
    "tenor_wise_summary_engnine = GeminiJsonEngine(\n",
    "                                    model_name=\"gemini-2.0-flash-001\",\n",
    "                                    basemodel=TenorWiseFinSummary,\n",
    "                                    temperature=0.5,\n",
    "                                    max_output_tokens=256,\n",
    "                                    systemInstructions=\"\"\"You are financial expert. Please provide a summary of the profit and loss movements in the short term, mid term and long term.\n",
    "Short term is defined tenor < 2y , mid term is defined as 2y < tenor < 10y and long term is defined as tenor > 10y. Your task to create a extensive summary of the profit and loss movements in each tenors.\n",
    "User will give a list of p&l and risk movements in the format of a title and granular details which explains the title.\n",
    "The title format is : Driven by <p&l amount> <financial factor> <P/L> to PL on <currency> Curve on Portfolio <portfolio name> \n",
    "The granular details format is : <p&l amount> <currency> due to <market_change> <market_change_direction> <financial factor> in the <tenor> node at the <long/short> <risk position>.\"\"\",\n",
    "                                    max_retries=5,\n",
    "                                    wait_time=30,\n",
    "                                    deployed_gcp=False\n",
    "                                    )\n",
    "\n",
    "gemini_all_tenor_summary_engine_simple = GeminiSimpleChatEngine(\n",
    "                                    model_name=\"gemini-2.0-flash-001\",\n",
    "                                    temperature=0.5,\n",
    "                                    max_output_tokens=256,\n",
    "                                    systemInstructions=\"\"\"You are financial expert. You will be given some tenor wise profit and loss movements. \n",
    "Your task is to summarize the each tenor details in a concise manner.\"\"\",\n",
    "                                    max_retries=5,\n",
    "                                    wait_time=30,\n",
    "                                    deployed_gcp=False\n",
    "                                    )"
   ]
  },
  {
   "cell_type": "code",
   "execution_count": null,
   "metadata": {},
   "outputs": [],
   "source": [
    "def tenor_wise_summary_agent(commentaries: str):\n",
    "    res =  tenor_wise_summary_engnine.run([\n",
    "        f\"User provided the following commentaries: {commentaries}\",\n",
    "        f\"Now please provide a tenor wise summary of the profit and loss movements.\",\n",
    "        f\"The summary should be extensive and should be understandable by a financial expert.\",\n",
    "        f\"Don't just copy the commentaries, do some comparison and analysis both across and within tenors. If there are no entries in a tenor, please mention that in the summary.\",\n",
    "        f\"You must use the tool 'TenorWiseFinSummary' to provide the summary following the arguments structure.\"\n",
    "        ]\n",
    "    )\n",
    "\n",
    "    all_tenor_res = \"\\n\".join([f\"{k}: {v}\" for k, v in res[0].items()])\n",
    "    \n",
    "    final_summary = gemini_all_tenor_summary_engine_simple.run([\n",
    "        f\"These are the tenor wise summaries: {all_tenor_res}\",\n",
    "        f\"Now please provide a concise summary of the profit and loss movements in each tenor.\",\n",
    "        \"The summary should be concise and should be understandable by a financial expert.\",\n",
    "        \"Don't just copy the tenor wise summaries, do some comparison and analysis both across and within tenors. Dont use any bullet points or list format. Write in a paragraph format.\",\n",
    "        ]\n",
    "    )\n",
    "\n",
    "    return final_summary\n",
    "\n",
    "def summarize_financial_commentaries(commentaries: List[Any]):\n",
    "    ans = \"\"\n",
    "    for c in commentaries:\n",
    "        ans+= c[\"header\"] + \"\\n\"\n",
    "        ans += tenor_wise_summary_agent(c)+ \"\\n\\n\"\n",
    "    ans = ans.strip()\n",
    "    return ans"
   ]
  },
  {
   "cell_type": "code",
   "execution_count": 70,
   "metadata": {},
   "outputs": [],
   "source": [
    "sample_financial_commentaries = [\n",
    "    {\n",
    "        \"header\": \"Driven by 0.57m IRDelta Loss to PL on USD Curve on Portfolio Florida Rates Macro\",\n",
    "        \"footer\":\"\"\"1770001 EUR due to 8.6 widening in the 10y node at the long 20251 EUR risk position.\\n\n",
    "            1821213 EUR due to 8.6 widening in the 1y node at the long 20211 EUR risk position.\\n\n",
    "            919231 EUR due to 1.2 tightening in the 2y node at the long 4251 EUR risk position\"\"\"\n",
    "    },\n",
    "    {\n",
    "        \"header\": \"Driven by -0.98m IRDelta Loss to PL on USD Curve on Portfolio Hedging Rates Macro\",\n",
    "        \"footer\": \"\"\"199901 EUR due to 1.2 tightening in the 2y node at the short 4251 EUR risk position.\\n\n",
    "            123123 EUR due to 21.2 widening in the 1y node at the short 20211 EUR risk position.\\n\n",
    "            1123123 EUR due to 1.2 tightening in the 2y node at the short 4251 EUR risk position.\"\"\"\n",
    "    }\n",
    "]"
   ]
  },
  {
   "cell_type": "code",
   "execution_count": 71,
   "metadata": {},
   "outputs": [],
   "source": [
    "res = summarize_financial_commentaries(sample_financial_commentaries)"
   ]
  },
  {
   "cell_type": "code",
   "execution_count": 72,
   "metadata": {},
   "outputs": [
    {
     "name": "stdout",
     "output_type": "stream",
     "text": [
      "Driven by 0.57m IRDelta Loss to PL on USD Curve on Portfolio Florida Rates Macro\n",
      "The portfolio experienced losses across all tenors. The short term (tenor < 2y) suffered the most significant loss of 1.82m EUR, driven by an 8.6 widening in the 1y node impacting a long risk position. This single factor was the primary driver of overall portfolio P&L in the short term. The mid-term (2y < tenor < 10y) incurred a loss of 0.92m EUR, stemming from a 1.2 tightening in the 2y node, also impacting a long risk position. Interestingly, while both short and long term losses were driven by widening spreads, the mid-term loss was caused by tightening. The long term (tenor > 10y) experienced a smaller loss of 0.18m EUR, attributed to an 8.6 widening in the 10y node affecting a long risk position. The consistent long risk positioning across all tenors suggests a potential vulnerability to adverse movements in interest rate spreads, particularly widenings in the short and long end of the curve.\n",
      "\n",
      "\n",
      "Driven by -0.98m IRDelta Loss to PL on USD Curve on Portfolio Hedging Rates Macro\n",
      "Profit and loss movements were concentrated in the short-term and mid-term tenors, both driven by EUR losses on short risk positions. The mid-term saw a loss of 1,143,114 EUR attributed to market changes in the 2Y node, while the short-term experienced a 123,123 EUR loss due to market volatility in the 1Y node. The magnitude of the mid-term loss significantly outweighs the short-term loss, suggesting a greater sensitivity of positions to the 2Y node compared to the 1Y node. No significant P&L movements were observed in the long-term.\n"
     ]
    }
   ],
   "source": [
    "print(res)"
   ]
  },
  {
   "cell_type": "code",
   "execution_count": null,
   "metadata": {},
   "outputs": [],
   "source": []
  }
 ],
 "metadata": {
  "kernelspec": {
   "display_name": ".venv",
   "language": "python",
   "name": "python3"
  },
  "language_info": {
   "codemirror_mode": {
    "name": "ipython",
    "version": 3
   },
   "file_extension": ".py",
   "mimetype": "text/x-python",
   "name": "python",
   "nbconvert_exporter": "python",
   "pygments_lexer": "ipython3",
   "version": "3.9.6"
  }
 },
 "nbformat": 4,
 "nbformat_minor": 2
}
