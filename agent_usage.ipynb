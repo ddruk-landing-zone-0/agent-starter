{
 "cells": [
  {
   "cell_type": "code",
   "execution_count": 6,
   "metadata": {},
   "outputs": [],
   "source": [
    "import langgraph\n",
    "from langgraph.graph import StateGraph\n",
    "from langgraph.graph.message import add_messages\n",
    "from langgraph.prebuilt import ToolNode, tools_condition\n",
    "from typing_extensions import TypedDict\n",
    "from langgraph.checkpoint.memory import MemorySaver\n",
    "\n",
    "from typing_extensions import TypedDict\n",
    "from typing import Dict, Any\n",
    "# from utils.agents.agent_state import AgentState\n",
    "from utils.common.logger import LOGGER"
   ]
  },
  {
   "cell_type": "code",
   "execution_count": 7,
   "metadata": {},
   "outputs": [],
   "source": [
    "class AgentState(TypedDict):\n",
    "    state: str\n",
    "    results: Dict[str, Any]"
   ]
  },
  {
   "cell_type": "code",
   "execution_count": 19,
   "metadata": {},
   "outputs": [],
   "source": [
    "def start_agent(state: AgentState):\n",
    "    LOGGER.info(\"Starting the agent-assist\")\n",
    "    state['state'] = 'start'\n",
    "    return state\n",
    "\n",
    "# It is not an agent, it is a redirector\n",
    "def check_user_qry(state: AgentState):\n",
    "    LOGGER.info(\"Checking user query\")\n",
    "    state['state'] = 'check_user_qry'\n",
    "    if \"python\" in state['results']['user']:\n",
    "        return \"python\"\n",
    "    elif \"sql\" in state['results']['user']:\n",
    "        return \"sql\"\n",
    "    else:\n",
    "        return \"error\"\n",
    "\n",
    "def write_python_code_agent(state: AgentState):\n",
    "    LOGGER.info(\"Writing python code\")\n",
    "    state['state'] = 'write_python_code'\n",
    "    state['results'][\"write_python_code\"] = \"print('Hello World')\"\n",
    "    return state\n",
    "\n",
    "def write_sql_code_agent(state: AgentState):\n",
    "    LOGGER.info(\"Writing sql code\")\n",
    "    state['state'] = 'write_sql_code'\n",
    "    state['results'][\"write_sql_code\"] = \"SELECT * FROM table_name\"\n",
    "    return state\n",
    "\n",
    "def summary_agent(state: AgentState):\n",
    "    LOGGER.info(\"Summarizing the code\")\n",
    "    state['state'] = 'sumary'\n",
    "    state['results'][\"summary\"] = \"This is a summary\"\n",
    "    return state\n",
    "\n",
    "def error_agent(state: AgentState):\n",
    "    LOGGER.error(\"Error in the user query\")\n",
    "    state['state'] = 'error'\n",
    "    return state\n",
    "\n",
    "def end_agent(state: AgentState):\n",
    "    LOGGER.info(\"Ending the agent-assist\")\n",
    "    state['state'] = 'end'\n",
    "    return state"
   ]
  },
  {
   "cell_type": "code",
   "execution_count": 20,
   "metadata": {},
   "outputs": [],
   "source": [
    "class MyAgent:\n",
    "    def __init__(self, thread_id=None):\n",
    "        self.config = None\n",
    "        self.app = None\n",
    "        self.build(thread_id)\n",
    "\n",
    "    def build(self, thread_id):\n",
    "        workflow = StateGraph(AgentState)\n",
    "\n",
    "        # Nodes\n",
    "        workflow.add_node('start', start_agent)\n",
    "        workflow.add_node('write_python_code', write_python_code_agent)\n",
    "        workflow.add_node('write_sql_code', write_sql_code_agent)\n",
    "        workflow.add_node('summary', summary_agent)\n",
    "        workflow.add_node('error', error_agent)\n",
    "        workflow.add_node('end', end_agent)\n",
    "\n",
    "        # Edges\n",
    "        workflow.add_conditional_edges(\n",
    "            'start', \n",
    "            check_user_qry,\n",
    "            {\n",
    "                \"python\": \"write_python_code\",\n",
    "                \"sql\": \"write_sql_code\",\n",
    "                \"error\": \"error\"\n",
    "            }\n",
    "        )\n",
    "        workflow.add_edge('write_python_code', 'summary')\n",
    "        workflow.add_edge('write_sql_code', 'summary')\n",
    "        workflow.add_edge('error', 'end')\n",
    "        workflow.add_edge('summary', 'end')\n",
    "        \n",
    "\n",
    "        # Compile\n",
    "        workflow.set_entry_point('start')\n",
    "        memory = MemorySaver()\n",
    "        self.app = workflow.compile(checkpointer=memory)\n",
    "        self.config = {\"configurable\":{\"thread_id\":str(thread_id)}}\n",
    "\n",
    "    def get_recent_state_snap(self):\n",
    "        snap = self.app.get_state(self.config).values.copy()\n",
    "        return snap\n",
    "    \n",
    "    def get_graph(self):\n",
    "        graph = self.app.get_graph(xray=True)\n",
    "        return graph\n",
    "    \n",
    "    def continue_flow(self, state):\n",
    "        self.app.invoke(state, config=self.config)\n",
    "        return self.get_recent_state_snap()"
   ]
  },
  {
   "cell_type": "code",
   "execution_count": 21,
   "metadata": {},
   "outputs": [],
   "source": [
    "MY_AGENT = MyAgent(thread_id=1)\n"
   ]
  },
  {
   "cell_type": "code",
   "execution_count": 22,
   "metadata": {},
   "outputs": [
    {
     "name": "stdout",
     "output_type": "stream",
     "text": [
      "                            +-----------+                        \n",
      "                            | __start__ |                        \n",
      "                            +-----------+                        \n",
      "                                  *                              \n",
      "                                  *                              \n",
      "                                  *                              \n",
      "                              +-------+                          \n",
      "                            ..| start |..                        \n",
      "                         ...  +-------+  ...                     \n",
      "                    .....           .       .....                \n",
      "                 ...                 .           ...             \n",
      "              ...                    .              .....        \n",
      "+-------------------+       +----------------+           ..      \n",
      "| write_python_code |       | write_sql_code |            .      \n",
      "+-------------------+       +----------------+            .      \n",
      "                 **           **                          .      \n",
      "                   **       **                            .      \n",
      "                     **   **                              .      \n",
      "                  +---------+                         +-------+  \n",
      "                  | summary |                       **| error |  \n",
      "                  +---------+                    ***  +-------+  \n",
      "                             **             *****                \n",
      "                               **        ***                     \n",
      "                                 *    ***                        \n",
      "                               +-----+                           \n",
      "                               | end |                           \n",
      "                               +-----+                           \n"
     ]
    }
   ],
   "source": [
    "graph = MY_AGENT.get_graph()\n",
    "print(graph.draw_ascii())"
   ]
  },
  {
   "cell_type": "code",
   "execution_count": 27,
   "metadata": {},
   "outputs": [
    {
     "name": "stderr",
     "output_type": "stream",
     "text": [
      "\u001b[1;32m2025-03-20 03:29:56,272 - INFO ==> Starting the agent-assist\u001b[0m\n",
      "\u001b[1;32m2025-03-20 03:29:56,274 - INFO ==> Checking user query\u001b[0m\n",
      "\u001b[1;32m2025-03-20 03:29:56,275 - INFO ==> Writing python code\u001b[0m\n",
      "\u001b[1;32m2025-03-20 03:29:56,275 - INFO ==> Summarizing the code\u001b[0m\n",
      "\u001b[1;32m2025-03-20 03:29:56,276 - INFO ==> Ending the agent-assist\u001b[0m\n"
     ]
    },
    {
     "data": {
      "text/plain": [
       "{'state': 'end',\n",
       " 'results': {'user': 'Write a python code',\n",
       "  'write_python_code': \"print('Hello World')\",\n",
       "  'write_sql_code': '',\n",
       "  'summary': 'This is a summary'}}"
      ]
     },
     "execution_count": 27,
     "metadata": {},
     "output_type": "execute_result"
    }
   ],
   "source": [
    "initial_state = {\n",
    "    \"state\": \"start\",\n",
    "    \"results\": {\n",
    "        \"user\": \"Write a python code\",\n",
    "        \"write_python_code\": \"\",\n",
    "        \"write_sql_code\": \"\",\n",
    "        \"summary\": \"\"\n",
    "    }\n",
    "}\n",
    "\n",
    "result_state = MY_AGENT.continue_flow(initial_state)\n",
    "result_state"
   ]
  },
  {
   "cell_type": "code",
   "execution_count": 28,
   "metadata": {},
   "outputs": [
    {
     "name": "stderr",
     "output_type": "stream",
     "text": [
      "\u001b[1;32m2025-03-20 03:30:01,742 - INFO ==> Starting the agent-assist\u001b[0m\n",
      "\u001b[1;32m2025-03-20 03:30:01,743 - INFO ==> Checking user query\u001b[0m\n",
      "\u001b[1;32m2025-03-20 03:30:01,744 - INFO ==> Writing sql code\u001b[0m\n",
      "\u001b[1;32m2025-03-20 03:30:01,745 - INFO ==> Summarizing the code\u001b[0m\n",
      "\u001b[1;32m2025-03-20 03:30:01,746 - INFO ==> Ending the agent-assist\u001b[0m\n"
     ]
    },
    {
     "data": {
      "text/plain": [
       "{'state': 'end',\n",
       " 'results': {'user': 'Write a sql code',\n",
       "  'write_python_code': '',\n",
       "  'write_sql_code': 'SELECT * FROM table_name',\n",
       "  'summary': 'This is a summary'}}"
      ]
     },
     "execution_count": 28,
     "metadata": {},
     "output_type": "execute_result"
    }
   ],
   "source": [
    "initial_state = {\n",
    "    \"state\": \"start\",\n",
    "    \"results\": {\n",
    "        \"user\": \"Write a sql code\",\n",
    "        \"write_python_code\": \"\",\n",
    "        \"write_sql_code\": \"\",\n",
    "        \"summary\": \"\"\n",
    "    }\n",
    "}\n",
    "\n",
    "result_state = MY_AGENT.continue_flow(initial_state)\n",
    "result_state"
   ]
  },
  {
   "cell_type": "code",
   "execution_count": null,
   "metadata": {},
   "outputs": [
    {
     "name": "stderr",
     "output_type": "stream",
     "text": [
      "\u001b[1;32m2025-03-20 03:30:12,375 - INFO ==> Starting the agent-assist\u001b[0m\n",
      "\u001b[1;32m2025-03-20 03:30:12,376 - INFO ==> Checking user query\u001b[0m\n",
      "\u001b[1;31m2025-03-20 03:30:12,379 - ERROR ==> Error in the user query\u001b[0m\n",
      "\u001b[1;32m2025-03-20 03:30:12,380 - INFO ==> Ending the agent-assist\u001b[0m\n"
     ]
    },
    {
     "data": {
      "text/plain": [
       "{'state': 'end',\n",
       " 'results': {'user': 'Write a ruby code',\n",
       "  'write_python_code': '',\n",
       "  'write_sql_code': '',\n",
       "  'summary': ''}}"
      ]
     },
     "execution_count": 29,
     "metadata": {},
     "output_type": "execute_result"
    }
   ],
   "source": [
    "initial_state = {\n",
    "    \"state\": \"start\",\n",
    "    \"results\": {\n",
    "        \"user\": \"Write a ruby code\",\n",
    "        \"write_python_code\": \"\",\n",
    "        \"write_sql_code\": \"\",\n",
    "        \"summary\": \"\"\n",
    "    }\n",
    "}\n",
    "\n",
    "result_state = MY_AGENT.continue_flow(initial_state)\n",
    "result_state"
   ]
  },
  {
   "cell_type": "code",
   "execution_count": null,
   "metadata": {},
   "outputs": [],
   "source": []
  }
 ],
 "metadata": {
  "kernelspec": {
   "display_name": ".venv",
   "language": "python",
   "name": "python3"
  },
  "language_info": {
   "codemirror_mode": {
    "name": "ipython",
    "version": 3
   },
   "file_extension": ".py",
   "mimetype": "text/x-python",
   "name": "python",
   "nbconvert_exporter": "python",
   "pygments_lexer": "ipython3",
   "version": "3.9.6"
  }
 },
 "nbformat": 4,
 "nbformat_minor": 2
}
