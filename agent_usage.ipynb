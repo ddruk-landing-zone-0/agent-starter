{
 "cells": [
  {
   "cell_type": "code",
   "execution_count": 1,
   "metadata": {},
   "outputs": [
    {
     "name": "stderr",
     "output_type": "stream",
     "text": [
      "/Users/debasmitroy/Desktop/programming/agent-starter-1/.venv/lib/python3.9/site-packages/urllib3/__init__.py:35: NotOpenSSLWarning: urllib3 v2 only supports OpenSSL 1.1.1+, currently the 'ssl' module is compiled with 'LibreSSL 2.8.3'. See: https://github.com/urllib3/urllib3/issues/3020\n",
      "  warnings.warn(\n"
     ]
    }
   ],
   "source": [
    "from utils.agents.agent_graph import MyAgent\n",
    "import os"
   ]
  },
  {
   "cell_type": "code",
   "execution_count": 2,
   "metadata": {},
   "outputs": [],
   "source": [
    "# For Gemini\n",
    "os.environ[\"GOOGLE_APPLICATION_CREDENTIALS\"] = \"/Users/debasmitroy/Desktop/programming/temp_deployment/key.json\"\n",
    "os.environ[\"GOOGLE_CLOUD_PROJECT\"] = \"openserve-0\"\n",
    "os.environ[\"GOOGLE_CLOUD_LOCATION\"] = \"us-central1\" "
   ]
  },
  {
   "cell_type": "markdown",
   "metadata": {},
   "source": [
    "## Agent Compile"
   ]
  },
  {
   "cell_type": "code",
   "execution_count": 3,
   "metadata": {},
   "outputs": [],
   "source": [
    "MY_AGENT = MyAgent(thread_id=1)"
   ]
  },
  {
   "cell_type": "code",
   "execution_count": 4,
   "metadata": {},
   "outputs": [
    {
     "name": "stdout",
     "output_type": "stream",
     "text": [
      "                              +-----------+                         \n",
      "                              | __start__ |                         \n",
      "                              +-----------+                         \n",
      "                                    *                               \n",
      "                                    *                               \n",
      "                                    *                               \n",
      "                                +-------+                           \n",
      "                              ..| start |..                         \n",
      "                          ....  +-------+  ....                     \n",
      "                      ....           .         .....                \n",
      "                  ....                .             ....            \n",
      "               ...                    .                 ....        \n",
      "+-------------------+         +----------------+            ...     \n",
      "| write_python_code |         | write_sql_code |              .     \n",
      "+-------------------+         +----------------+              .     \n",
      "           *                          *                       .     \n",
      "           *                          *                       .     \n",
      "           *                          *                       .     \n",
      "+--------------------+       +-----------------+              .     \n",
      "| python_code_runner |       | sql_code_runner |              .     \n",
      "+--------------------+       +-----------------+              .     \n",
      "                 **            **                             .     \n",
      "                   **        **                               .     \n",
      "                     **    **                                 .     \n",
      "                   +---------+                           +-------+  \n",
      "                   | summary |                          *| error |  \n",
      "                   +---------+                     ***** +-------+  \n",
      "                              **               ****                 \n",
      "                                **        *****                     \n",
      "                                  *    ***                          \n",
      "                                 +-----+                            \n",
      "                                 | end |                            \n",
      "                                 +-----+                            \n"
     ]
    }
   ],
   "source": [
    "graph = MY_AGENT.get_graph()\n",
    "print(graph.draw_ascii())"
   ]
  },
  {
   "cell_type": "markdown",
   "metadata": {},
   "source": [
    "## Running Agent"
   ]
  },
  {
   "cell_type": "markdown",
   "metadata": {},
   "source": [
    "### Example 1"
   ]
  },
  {
   "cell_type": "code",
   "execution_count": 5,
   "metadata": {},
   "outputs": [
    {
     "name": "stderr",
     "output_type": "stream",
     "text": [
      "\u001b[1;32m2025-03-20 11:17:30,960 - INFO ==> Starting the agent-assist\u001b[0m\n",
      "\u001b[1;32m2025-03-20 11:17:30,961 - INFO ==> Checking user query\u001b[0m\n",
      "\u001b[1;36m2025-03-20 11:17:31,208 - DEBUG ==> Initialized GeminiModel with model gemini-2.0-flash-001 , project openserve-0, location us-central1\u001b[0m\n",
      "\u001b[1;32m2025-03-20 11:17:33,385 - INFO ==> Writing python code\u001b[0m\n",
      "\u001b[1;36m2025-03-20 11:17:33,657 - DEBUG ==> Initialized GeminiModel with model gemini-2.0-flash-001 , project openserve-0, location us-central1\u001b[0m\n",
      "\u001b[1;32m2025-03-20 11:17:36,027 - INFO ==> Running the python code\u001b[0m\n",
      "\u001b[1;32m2025-03-20 11:17:36,029 - INFO ==> Code executed successfully: 8\n",
      "\u001b[0m\n",
      "\u001b[1;32m2025-03-20 11:17:36,031 - INFO ==> Summarizing the code\u001b[0m\n",
      "\u001b[1;36m2025-03-20 11:17:36,331 - DEBUG ==> Initialized GeminiModel with model gemini-2.0-flash-001 , project openserve-0, location us-central1\u001b[0m\n",
      "\u001b[1;32m2025-03-20 11:17:37,461 - INFO ==> Ending the agent-assist\u001b[0m\n"
     ]
    },
    {
     "data": {
      "text/plain": [
       "{'state': 'end',\n",
       " 'results': {'user': 'Write a python code to find the sum of two numbers.',\n",
       "  'write_python_code': 'def sum_two_numbers(a, b):\\n  return a + b\\n\\n# Example usage:\\nnum1 = 5\\nnum2 = 3\\nresult = sum_two_numbers(num1, num2)\\nprint(result)',\n",
       "  'write_sql_code': '',\n",
       "  'summary': 'The user asked for a Python code to find the sum of two numbers and provided the code as: def sum_two_numbers(a, b):\\n  return a + b\\nnum1 = 5\\nnum2 = 3\\nresult = sum_two_numbers(num1, num2)\\nprint(result)',\n",
       "  'python_code_output': '8\\n'}}"
      ]
     },
     "execution_count": 5,
     "metadata": {},
     "output_type": "execute_result"
    }
   ],
   "source": [
    "initial_state = {\n",
    "    \"state\": \"start\",\n",
    "    \"results\": {\n",
    "        \"user\": \"Write a python code to find the sum of two numbers.\",\n",
    "        \"write_python_code\": \"\",\n",
    "        \"write_sql_code\": \"\",\n",
    "        \"summary\": \"\"\n",
    "    }\n",
    "}\n",
    "\n",
    "result_state = MY_AGENT.continue_flow(initial_state)\n",
    "result_state"
   ]
  },
  {
   "cell_type": "code",
   "execution_count": 6,
   "metadata": {},
   "outputs": [
    {
     "name": "stdout",
     "output_type": "stream",
     "text": [
      "*** The code is:  def sum_two_numbers(a, b):\n",
      "  return a + b\n",
      "\n",
      "# Example usage:\n",
      "num1 = 5\n",
      "num2 = 3\n",
      "result = sum_two_numbers(num1, num2)\n",
      "print(result)\n",
      "*** The output is:  8\n",
      "\n",
      "*** The summary is:  The user asked for a Python code to find the sum of two numbers and provided the code as: def sum_two_numbers(a, b):\n",
      "  return a + b\n",
      "num1 = 5\n",
      "num2 = 3\n",
      "result = sum_two_numbers(num1, num2)\n",
      "print(result)\n"
     ]
    }
   ],
   "source": [
    "print(\"*** The code is: \", result_state['results']['write_python_code'])\n",
    "print(\"*** The output is: \", result_state['results']['python_code_output'])\n",
    "print(\"*** The summary is: \", result_state['results']['summary'])"
   ]
  },
  {
   "cell_type": "markdown",
   "metadata": {},
   "source": [
    "### Example 2"
   ]
  },
  {
   "cell_type": "code",
   "execution_count": 7,
   "metadata": {},
   "outputs": [
    {
     "name": "stderr",
     "output_type": "stream",
     "text": [
      "\u001b[1;32m2025-03-20 11:17:37,482 - INFO ==> Starting the agent-assist\u001b[0m\n",
      "\u001b[1;32m2025-03-20 11:17:37,482 - INFO ==> Checking user query\u001b[0m\n",
      "\u001b[1;32m2025-03-20 11:17:39,644 - INFO ==> Writing sql code\u001b[0m\n",
      "\u001b[1;36m2025-03-20 11:17:39,863 - DEBUG ==> Initialized GeminiModel with model gemini-2.0-flash-001 , project openserve-0, location us-central1\u001b[0m\n",
      "\u001b[1;32m2025-03-20 11:17:40,642 - INFO ==> Running the sql code\u001b[0m\n",
      "\u001b[1;33m2025-03-20 11:17:40,643 - WARNING ==> SQL code runner is not implemented yet. Need to register the SQL engine first.\u001b[0m\n",
      "\u001b[1;32m2025-03-20 11:17:40,646 - INFO ==> Summarizing the code\u001b[0m\n",
      "\u001b[1;32m2025-03-20 11:17:42,991 - INFO ==> Ending the agent-assist\u001b[0m\n"
     ]
    },
    {
     "data": {
      "text/plain": [
       "{'state': 'end',\n",
       " 'results': {'user': \"Write a sql code to fetch the all data from the table 'employee'.\",\n",
       "  'write_python_code': '',\n",
       "  'write_sql_code': 'SELECT * FROM employee;',\n",
       "  'python_code_runner': '',\n",
       "  'summary': \"The user asked for SQL code to fetch all data from the 'employee' table, and the provided code is 'SELECT * FROM employee;'.\",\n",
       "  'sql_code_output': 'SQL code runner is not implemented yet. Need to register the SQL engine first.'}}"
      ]
     },
     "execution_count": 7,
     "metadata": {},
     "output_type": "execute_result"
    }
   ],
   "source": [
    "initial_state = {\n",
    "    \"state\": \"start\",\n",
    "    \"results\": {\n",
    "        \"user\": \"Write a sql code to fetch the all data from the table 'employee'.\",\n",
    "        \"write_python_code\": \"\",\n",
    "        \"write_sql_code\": \"\",\n",
    "        \"python_code_runner\": \"\",\n",
    "        \"summary\": \"\"\n",
    "    }\n",
    "}\n",
    "\n",
    "result_state = MY_AGENT.continue_flow(initial_state)\n",
    "result_state"
   ]
  },
  {
   "cell_type": "markdown",
   "metadata": {},
   "source": [
    "### Example 3"
   ]
  },
  {
   "cell_type": "code",
   "execution_count": 8,
   "metadata": {},
   "outputs": [
    {
     "name": "stderr",
     "output_type": "stream",
     "text": [
      "\u001b[1;32m2025-03-20 11:17:43,012 - INFO ==> Starting the agent-assist\u001b[0m\n",
      "\u001b[1;32m2025-03-20 11:17:43,013 - INFO ==> Checking user query\u001b[0m\n",
      "\u001b[1;33m2025-03-20 11:17:44,828 - WARNING ==> Rate limit hit. Retrying in 30 seconds... (Attempt 1/5)\u001b[0m\n",
      "\u001b[1;33m2025-03-20 11:18:16,679 - WARNING ==> Rate limit hit. Retrying in 30 seconds... (Attempt 2/5)\u001b[0m\n",
      "\u001b[1;31m2025-03-20 11:18:48,935 - ERROR ==> Error in the user query\u001b[0m\n",
      "\u001b[1;32m2025-03-20 11:18:48,936 - INFO ==> Ending the agent-assist\u001b[0m\n"
     ]
    },
    {
     "data": {
      "text/plain": [
       "{'state': 'end',\n",
       " 'results': {'user': 'Write a ruby code',\n",
       "  'write_python_code': '',\n",
       "  'write_sql_code': '',\n",
       "  'summary': ''}}"
      ]
     },
     "execution_count": 8,
     "metadata": {},
     "output_type": "execute_result"
    }
   ],
   "source": [
    "initial_state = {\n",
    "    \"state\": \"start\",\n",
    "    \"results\": {\n",
    "        \"user\": \"Write a ruby code\",\n",
    "        \"write_python_code\": \"\",\n",
    "        \"write_sql_code\": \"\",\n",
    "        \"summary\": \"\"\n",
    "    }\n",
    "}\n",
    "\n",
    "result_state = MY_AGENT.continue_flow(initial_state)\n",
    "result_state"
   ]
  },
  {
   "cell_type": "code",
   "execution_count": null,
   "metadata": {},
   "outputs": [],
   "source": []
  },
  {
   "cell_type": "code",
   "execution_count": null,
   "metadata": {},
   "outputs": [],
   "source": []
  }
 ],
 "metadata": {
  "kernelspec": {
   "display_name": ".venv",
   "language": "python",
   "name": "python3"
  },
  "language_info": {
   "codemirror_mode": {
    "name": "ipython",
    "version": 3
   },
   "file_extension": ".py",
   "mimetype": "text/x-python",
   "name": "python",
   "nbconvert_exporter": "python",
   "pygments_lexer": "ipython3",
   "version": "3.9.6"
  }
 },
 "nbformat": 4,
 "nbformat_minor": 2
}
